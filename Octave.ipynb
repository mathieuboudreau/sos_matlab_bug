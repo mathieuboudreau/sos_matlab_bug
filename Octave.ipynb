{
 "cells": [
  {
   "cell_type": "code",
   "execution_count": 1,
   "metadata": {
    "kernel": "Octave"
   },
   "outputs": [],
   "source": [
    "load('imagePathList.mat')"
   ]
  },
  {
   "cell_type": "code",
   "execution_count": 2,
   "metadata": {
    "kernel": "Octave"
   },
   "outputs": [
    {
     "name": "stdout",
     "output_type": "stream",
     "text": [
      "\r\n",
      "{\r\n",
      "  [1,1] = 20200121_matthewgrechsollars_ICL_NIST/20200121_matthewgrechsollars_ICL_NIST_Magnitude.nii.gz\r\n",
      "  [1,2] = 20200121_matthewgrechsollars_ICL_NIST/20200121_matthewgrechsollars_ICL_NIST_Magnitude.nii.gz\r\n",
      "  [1,3] = 20200121_matthewgrechsollars_ICL_NIST/20200121_matthewgrechsollars_ICL_NIST_Phase.nii.gz\r\n",
      "  [1,4] = 20200124_siyuanhu_casewestern_NIST/20200124_siyuanhu_casewestern_NIST.nii.gz\r\n",
      "  [1,5] = 20200203_iveslevesque_muhc_mgh_NIST/20200203_iveslevesque_muhc_mgh_NIST.nii.gz\r\n",
      "  [1,6] = 20200204_mrel_usc_NIST/20200204_mrel_usc_GE3T_MR1_NIST.nii.gz\r\n",
      "  [1,7] = 20200204_mrel_usc_NIST/20200204_mrel_usc_GE3T_MR2_NIST.nii.gz\r\n",
      "  [1,8] = 20200204_mrel_usc_NIST/20200209_mrel_usc_GE3T_MR1_NIST.nii.gz\r\n",
      "  [1,9] = 20200204_mrel_usc_NIST/20200209_mrel_usc_GE3T_MR1_NIST_TR10sec.nii.gz\r\n",
      "  [1,10] = 20200204_mrel_usc_NIST/20200209_mrel_usc_GE3T_MR2_NIST.nii.gz\r\n",
      "  [1,11] = 20200204_mrel_usc_NIST/20200209_mrel_usc_GE3T_MR2_NIST_TR10sec.nii.gz\r\n",
      "  [1,12] = 20200210_guillaumegilbert_muhc_NIST/20200210_guillaumegilbert_muhc_NIST_Magnitude.nii.gz\r\n",
      "  [1,13] = 20200210_guillaumegilbert_muhc_NIST/20200210_guillaumegilbert_muhc_NIST_Real.nii.gz\r\n",
      "  [1,14] = 20200210_guillaumegilbert_muhc_NIST/20200210_guillaumegilbert_muhc_NIST_Imaginary.nii.gz\r\n",
      "  [1,15] = 20200225_CStehningPhilipsClinicalScienceGermany_NIST/Aachen_MR1_magnitude.nii.gz\r\n",
      "  [1,16] = 20200225_CStehningPhilipsClinicalScienceGermany_NIST/Aachen_MR1_real.nii.gz\r\n",
      "  [1,17] = 20200225_CStehningPhilipsClinicalScienceGermany_NIST/Aachen_MR1_imag.nii.gz\r\n",
      "  [1,18] = 20200225_CStehningPhilipsClinicalScienceGermany_NIST/Berlin_MR1_magnitude.nii.gz\r\n",
      "  [1,19] = 20200225_CStehningPhilipsClinicalScienceGermany_NIST/Berlin_MR1_real.nii.gz\r\n",
      "  [1,20] = 20200225_CStehningPhilipsClinicalScienceGermany_NIST/Berlin_MR1_imag.nii.gz\r\n",
      "  [1,21] = 20200225_CStehningPhilipsClinicalScienceGermany_NIST/Bonn_MR1_magnitude.nii.gz\r\n",
      "  [1,22] = 20200225_CStehningPhilipsClinicalScienceGermany_NIST/Cologne_MR1_magnitude.nii.gz\r\n",
      "  [1,23] = 20200225_CStehningPhilipsClinicalScienceGermany_NIST/Berlin_MR1_real.nii.gz\r\n",
      "  [1,24] = 20200225_CStehningPhilipsClinicalScienceGermany_NIST/Berlin_MR1_imag.nii.gz\r\n",
      "  [1,25] = 20200227_karakuzu_polymtl_NIST/20191213_UNF/20191213_karakuzu_UNF_NIST_FS.nii.gz\r\n",
      "  [1,26] = 20200227_karakuzu_polymtl_NIST/20200227_MNI/20200227_karakuzu_mni_NIST_FS.nii.gz\r\n",
      "}\r\n"
     ]
    }
   ],
   "source": [
    "disp(imagePathList)"
   ]
  },
  {
   "cell_type": "code",
   "execution_count": 3,
   "metadata": {
    "kernel": "Python3"
   },
   "outputs": [],
   "source": [
    "%get imagePathList --from Octave"
   ]
  },
  {
   "cell_type": "code",
   "execution_count": 4,
   "metadata": {
    "kernel": "Python3"
   },
   "outputs": [
    {
     "name": "stdout",
     "output_type": "stream",
     "text": [
      "['20200121_matthewgrechsollars_ICL_NIST/20200121_matthewgrechsollars_ICL_NIST_Magnitude.nii.gz', '20200121_matthewgrechsollars_ICL_NIST/20200121_matthewgrechsollars_ICL_NIST_Magnitude.nii.gz', '20200121_matthewgrechsollars_ICL_NIST/20200121_matthewgrechsollars_ICL_NIST_Phase.nii.gz', '20200124_siyuanhu_casewestern_NIST/20200124_siyuanhu_casewestern_NIST.nii.gz', '20200203_iveslevesque_muhc_mgh_NIST/20200203_iveslevesque_muhc_mgh_NIST.nii.gz', '20200204_mrel_usc_NIST/20200204_mrel_usc_GE3T_MR1_NIST.nii.gz', '20200204_mrel_usc_NIST/20200204_mrel_usc_GE3T_MR2_NIST.nii.gz', '20200204_mrel_usc_NIST/20200209_mrel_usc_GE3T_MR1_NIST.nii.gz', '20200204_mrel_usc_NIST/20200209_mrel_usc_GE3T_MR1_NIST_TR10sec.nii.gz', '20200204_mrel_usc_NIST/20200209_mrel_usc_GE3T_MR2_NIST.nii.gz', '20200204_mrel_usc_NIST/20200209_mrel_usc_GE3T_MR2_NIST_TR10sec.nii.gz', '20200210_guillaumegilbert_muhc_NIST/20200210_guillaumegilbert_muhc_NIST_Magnitude.nii.gz', '20200210_guillaumegilbert_muhc_NIST/20200210_guillaumegilbert_muhc_NIST_Real.nii.gz', '20200210_guillaumegilbert_muhc_NIST/20200210_guillaumegilbert_muhc_NIST_Imaginary.nii.gz', '20200225_CStehningPhilipsClinicalScienceGermany_NIST/Aachen_MR1_magnitude.nii.gz', '20200225_CStehningPhilipsClinicalScienceGermany_NIST/Aachen_MR1_real.nii.gz', '20200225_CStehningPhilipsClinicalScienceGermany_NIST/Aachen_MR1_imag.nii.gz', '20200225_CStehningPhilipsClinicalScienceGermany_NIST/Berlin_MR1_magnitude.nii.gz', '20200225_CStehningPhilipsClinicalScienceGermany_NIST/Berlin_MR1_real.nii.gz', '20200225_CStehningPhilipsClinicalScienceGermany_NIST/Berlin_MR1_imag.nii.gz', '20200225_CStehningPhilipsClinicalScienceGermany_NIST/Bonn_MR1_magnitude.nii.gz', '20200225_CStehningPhilipsClinicalScienceGermany_NIST/Cologne_MR1_magnitude.nii.gz', '20200225_CStehningPhilipsClinicalScienceGermany_NIST/Berlin_MR1_real.nii.gz', '20200225_CStehningPhilipsClinicalScienceGermany_NIST/Berlin_MR1_imag.nii.gz', '20200227_karakuzu_polymtl_NIST/20191213_UNF/20191213_karakuzu_UNF_NIST_FS.nii.gz', '20200227_karakuzu_polymtl_NIST/20200227_MNI/20200227_karakuzu_mni_NIST_FS.nii.gz']\n"
     ]
    }
   ],
   "source": [
    "print(imagePathList)"
   ]
  },
  {
   "cell_type": "code",
   "execution_count": null,
   "metadata": {
    "kernel": "Python3"
   },
   "outputs": [],
   "source": []
  }
 ],
 "metadata": {
  "kernelspec": {
   "display_name": "SoS",
   "language": "sos",
   "name": "sos"
  },
  "language_info": {
   "codemirror_mode": "sos",
   "file_extension": ".sos",
   "mimetype": "text/x-sos",
   "name": "sos",
   "nbconvert_exporter": "sos_notebook.converter.SoS_Exporter",
   "pygments_lexer": "sos"
  },
  "sos": {
   "kernels": [
    [
     "Octave",
     "octave",
     "Octave",
     "#dff8fb",
     ""
    ],
    [
     "Python3",
     "python3",
     "Python3",
     "#FFD91A",
     ""
    ]
   ],
   "panel": {
    "displayed": true,
    "height": 0
   },
   "version": "0.21.9"
  }
 },
 "nbformat": 4,
 "nbformat_minor": 2
}
