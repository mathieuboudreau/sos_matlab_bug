{
 "cells": [
  {
   "cell_type": "code",
   "execution_count": 1,
   "metadata": {
    "kernel": "MATLAB"
   },
   "outputs": [],
   "source": [
    "load('imagePathList.mat')"
   ]
  },
  {
   "cell_type": "code",
   "execution_count": 2,
   "metadata": {
    "kernel": "MATLAB"
   },
   "outputs": [
    {
     "name": "stdout",
     "output_type": "stream",
     "text": [
      "  Columns 1 through 3\n",
      "\n",
      "    '20200121_matthew...'    '20200121_matthew...'    '20200121_matthew...'\n",
      "\n",
      "  Columns 4 through 6\n",
      "\n",
      "    '20200124_siyuanh...'    '20200203_iveslev...'    '20200204_mrel_us...'\n",
      "\n",
      "  Columns 7 through 9\n",
      "\n",
      "    '20200204_mrel_us...'    '20200204_mrel_us...'    '20200204_mrel_us...'\n",
      "\n",
      "  Columns 10 through 12\n",
      "\n",
      "    '20200204_mrel_us...'    '20200204_mrel_us...'    '20200210_guillau...'\n",
      "\n",
      "  Columns 13 through 15\n",
      "\n",
      "    '20200210_guillau...'    '20200210_guillau...'    '20200225_CStehni...'\n",
      "\n",
      "  Columns 16 through 18\n",
      "\n",
      "    '20200225_CStehni...'    '20200225_CStehni...'    '20200225_CStehni...'\n",
      "\n",
      "  Columns 19 through 21\n",
      "\n",
      "    '20200225_CStehni...'    '20200225_CStehni...'    '20200225_CStehni...'\n",
      "\n",
      "  Columns 22 through 24\n",
      "\n",
      "    '20200225_CStehni...'    '20200225_CStehni...'    '20200225_CStehni...'\n",
      "\n",
      "  Columns 25 through 26\n",
      "\n",
      "    '20200227_karakuz...'    '20200227_karakuz...'\n",
      "\n"
     ]
    }
   ],
   "source": [
    "disp(imagePathList)"
   ]
  },
  {
   "cell_type": "code",
   "execution_count": 3,
   "metadata": {
    "kernel": "Python3"
   },
   "outputs": [
    {
     "name": "stderr",
     "output_type": "stream",
     "text": [
      "Failed to evaluate '[r\"\"\"20200121_matthewgrechsollars_ICL_NIST/20200121_matthewgrechsollars_ICL_NIST_Magnitude.nii.gz\"\"\",r\"\"\"20200121_matthewgrechsollars_ICL_NIST/20200121_matthewgrechsollars_ICL_NIST_Magnitude.nii.gz\"\"\",r\"\"\"20200121_matthewgrechsollars_ICL_NIST/20200121_matthewgrechsollars_ICL_NIST_Phase.nii.gz\"\"\",r\"\"\"20200124_siyuanhu_casewestern_NIST/20200124_siyuanhu_casewestern_NIST.nii.gz\"\"\",r\"\"\"20200203_iveslevesque_muhc_mgh_NIST/20200203_iveslevesque_muhc_mgh_NIST.nii.gz\"\"\",r\"\"\"20200204_mrel_usc_NIST/20200204_mrel_usc_GE3T_MR1_NIST.nii.gz\"\"\",r\"\"\"20200204_mrel_usc_NIST/20200204_mrel_usc_GE3T_MR2_NIST.nii.gz\"\"\",r\"\"\"20200204_mrel_usc_NIST/20200209_mrel_usc_GE3T_MR1_NIST.nii.gz\"\"\",r\"\"\"20200204_mrel_usc_NIST/20200209_mrel_usc_GE3T_MR1_NIST_TR10sec.nii.gz\"\"\",r\"\"\"20200204_mrel_usc_NIST/20200209_mrel_usc_GE3T_MR2_NIST.nii.gz\"\"\",r\"\"\"20200204_mrel_usc_NIST/20200209_mrel_usc_GE3T_MR2_NIST_TR10sec.nii.gz\"\"\",r\"\"\"20200210_guillaumegilbert_muhc_NIST/20200210_guillaumegilbert_muhc_NIST_Magnitude.nii.gz\"\"\",r\"\"\"20200210_guillaumegilbert_muhc_NIST/20200210_guillaumegilbert_muhc_NIST_Real.nii.gz\"\"\",r\"\"\"20200210_guillaumegilbert_muhc_NIST/20200210_guillaumegilbert_muhc_NIST_Imaginary.nii.gz\"\"\",r\"\"\"20200225_CStehningPhilipsClinicalScienceGermany_NIST/Aachen_MR1_magnitude.nii.gz\"\"\",r\"\"\"20200225_CStehningPhilipsClinicalScienceGermany_NIST/Aachen_MR1_real.nii.gz\"\"\",r\"\"\"20200225_CStehningPhilipsClinicalScienceGermany_NIST/Aachen_MR1_imag.nii.gz\"\"\",r\"\"\"20200225_CStehningPhilipsClinicalScienceGermany_NIST/Berlin_MR1_magnitude.nii.gz\"\"\",r\"\"\"20200225_CStehningPhilipsClinicalScienceGermany_NIST/Berlin_MR1_real.nii.gz\"\"\",r\"\"\"20200225_CStehningPhilipsClinicalScienceGermany_NIST/Berlin_MR1_imag.nii.gz\"\"\",r\"\"\"20200225_CStehningPhilipsClinicalScienceGermany_NIST/Bonn_MR1_magnitude.nii.gz\"\"\",r\"\"\"20200225_CStehningPhilipsClinicalScienceGermany_NIST/Cologne_MR1_magnitude.nii.gz\"\"\",r\"\"\"20200225_CStehningPhilipsClinicalScienceGermany_NIST/Berlin_MR1_real.nii.gz\"\"\",r\"\"\"20200225_CStehningPhilipsClinicalScienceGermany_NIST/Berlin_MR1_imag.nii.gz\"\"\",r\"\"\"20200227_karaku': EOF while scanning triple-quoted string literal (<string>, line 1)\n",
      "Failed to evaluate '[r\"\"\"20200121_matthewgrechsollars_ICL_NIST/20200121_matthewgrechsollars_ICL_NIST_Magnitude.nii.gz\"\"\",r\"\"\"20200121_matthewgrechsollars_ICL_NIST/20200121_matthewgrechsollars_ICL_NIST_Magnitude.nii.gz\"\"\",r\"\"\"20200121_matthewgrechsollars_ICL_NIST/20200121_matthewgrechsollars_ICL_NIST_Phase.nii.gz\"\"\",r\"\"\"20200124_siyuanhu_casewestern_NIST/20200124_siyuanhu_casewestern_NIST.nii.gz\"\"\",r\"\"\"20200203_iveslevesque_muhc_mgh_NIST/20200203_iveslevesque_muhc_mgh_NIST.nii.gz\"\"\",r\"\"\"20200204_mrel_usc_NIST/20200204_mrel_usc_GE3T_MR1_NIST.nii.gz\"\"\",r\"\"\"20200204_mrel_usc_NIST/20200204_mrel_usc_GE3T_MR2_NIST.nii.gz\"\"\",r\"\"\"20200204_mrel_usc_NIST/20200209_mrel_usc_GE3T_MR1_NIST.nii.gz\"\"\",r\"\"\"20200204_mrel_usc_NIST/20200209_mrel_usc_GE3T_MR1_NIST_TR10sec.nii.gz\"\"\",r\"\"\"20200204_mrel_usc_NIST/20200209_mrel_usc_GE3T_MR2_NIST.nii.gz\"\"\",r\"\"\"20200204_mrel_usc_NIST/20200209_mrel_usc_GE3T_MR2_NIST_TR10sec.nii.gz\"\"\",r\"\"\"20200210_guillaumegilbert_muhc_NIST/20200210_guillaumegilbert_muhc_NIST_Magnitude.nii.gz\"\"\",r\"\"\"20200210_guillaumegilbert_muhc_NIST/20200210_guillaumegilbert_muhc_NIST_Real.nii.gz\"\"\",r\"\"\"20200210_guillaumegilbert_muhc_NIST/20200210_guillaumegilbert_muhc_NIST_Imaginary.nii.gz\"\"\",r\"\"\"20200225_CStehningPhilipsClinicalScienceGermany_NIST/Aachen_MR1_magnitude.nii.gz\"\"\",r\"\"\"20200225_CStehningPhilipsClinicalScienceGermany_NIST/Aachen_MR1_real.nii.gz\"\"\",r\"\"\"20200225_CStehningPhilipsClinicalScienceGermany_NIST/Aachen_MR1_imag.nii.gz\"\"\",r\"\"\"20200225_CStehningPhilipsClinicalScienceGermany_NIST/Berlin_MR1_magnitude.nii.gz\"\"\",r\"\"\"20200225_CStehningPhilipsClinicalScienceGermany_NIST/Berlin_MR1_real.nii.gz\"\"\",r\"\"\"20200225_CStehningPhilipsClinicalScienceGermany_NIST/Berlin_MR1_imag.nii.gz\"\"\",r\"\"\"20200225_CStehningPhilipsClinicalScienceGermany_NIST/Bonn_MR1_magnitude.nii.gz\"\"\",r\"\"\"20200225_CStehningPhilipsClinicalScienceGermany_NIST/Cologne_MR1_magnitude.nii.gz\"\"\",r\"\"\"20200225_CStehningPhilipsClinicalScienceGermany_NIST/Berlin_MR1_real.nii.gz\"\"\",r\"\"\"20200225_CStehningPhilipsClinicalScienceGermany_NIST/Berlin_MR1_imag.nii.gz\"\"\",r\"\"\"20200227_karaku': EOF while scanning triple-quoted string literal (<string>, line 1)\n",
      "Variable imagePathList does not exist\n"
     ]
    }
   ],
   "source": [
    "%get imagePathList --from MATLAB"
   ]
  },
  {
   "cell_type": "code",
   "execution_count": 4,
   "metadata": {
    "kernel": "MATLAB"
   },
   "outputs": [
    {
     "name": "stdout",
     "output_type": "stream",
     "text": [
      "\n",
      "imagePathList =\n",
      "\n",
      "  1x25 cell array\n",
      "\n",
      "  Columns 1 through 3\n",
      "\n",
      "    {'20200121_matth...'}    {'20200121_matth...'}    {'20200121_matth...'}\n",
      "\n",
      "  Columns 4 through 6\n",
      "\n",
      "    {'20200124_siyua...'}    {'20200203_ivesl...'}    {'20200204_mrel_...'}\n",
      "\n",
      "  Columns 7 through 9\n",
      "\n",
      "    {'20200204_mrel_...'}    {'20200204_mrel_...'}    {'20200204_mrel_...'}\n",
      "\n",
      "  Columns 10 through 12\n",
      "\n",
      "    {'20200204_mrel_...'}    {'20200204_mrel_...'}    {'20200210_guill...'}\n",
      "\n",
      "  Columns 13 through 15\n",
      "\n",
      "    {'20200210_guill...'}    {'20200210_guill...'}    {'20200225_CSteh...'}\n",
      "\n",
      "  Columns 16 through 18\n",
      "\n",
      "    {'20200225_CSteh...'}    {'20200225_CSteh...'}    {'20200225_CSteh...'}\n",
      "\n",
      "  Columns 19 through 21\n",
      "\n",
      "    {'20200225_CSteh...'}    {'20200225_CSteh...'}    {'20200225_CSteh...'}\n",
      "\n",
      "  Columns 22 through 24\n",
      "\n",
      "    {'20200225_CSteh...'}    {'20200225_CSteh...'}    {'20200225_CSteh...'}\n",
      "\n",
      "  Column 25\n",
      "\n",
      "    {'20200227_karak...'}\n",
      "\n",
      "\n",
      "imagePathList =\n",
      "\n",
      "  1x24 cell array\n",
      "\n",
      "  Columns 1 through 3\n",
      "\n",
      "    {'20200121_matth...'}    {'20200121_matth...'}    {'20200121_matth...'}\n",
      "\n",
      "  Columns 4 through 6\n",
      "\n",
      "    {'20200124_siyua...'}    {'20200203_ivesl...'}    {'20200204_mrel_...'}\n",
      "\n",
      "  Columns 7 through 9\n",
      "\n",
      "    {'20200204_mrel_...'}    {'20200204_mrel_...'}    {'20200204_mrel_...'}\n",
      "\n",
      "  Columns 10 through 12\n",
      "\n",
      "    {'20200204_mrel_...'}    {'20200204_mrel_...'}    {'20200210_guill...'}\n",
      "\n",
      "  Columns 13 through 15\n",
      "\n",
      "    {'20200210_guill...'}    {'20200210_guill...'}    {'20200225_CSteh...'}\n",
      "\n",
      "  Columns 16 through 18\n",
      "\n",
      "    {'20200225_CSteh...'}    {'20200225_CSteh...'}    {'20200225_CSteh...'}\n",
      "\n",
      "  Columns 19 through 21\n",
      "\n",
      "    {'20200225_CSteh...'}    {'20200225_CSteh...'}    {'20200225_CSteh...'}\n",
      "\n",
      "  Columns 22 through 24\n",
      "\n",
      "    {'20200225_CSteh...'}    {'20200225_CSteh...'}    {'20200225_CSteh...'}\n",
      "\n"
     ]
    }
   ],
   "source": [
    "imagePathList(end)=[]\n",
    "imagePathList(end)=[]"
   ]
  },
  {
   "cell_type": "code",
   "execution_count": 5,
   "metadata": {
    "kernel": "Python3"
   },
   "outputs": [],
   "source": [
    "%get imagePathList --from MATLAB"
   ]
  },
  {
   "cell_type": "code",
   "execution_count": 6,
   "metadata": {
    "kernel": "Python3"
   },
   "outputs": [
    {
     "name": "stdout",
     "output_type": "stream",
     "text": [
      "['20200121_matthewgrechsollars_ICL_NIST/20200121_matthewgrechsollars_ICL_NIST_Magnitude.nii.gz', '20200121_matthewgrechsollars_ICL_NIST/20200121_matthewgrechsollars_ICL_NIST_Magnitude.nii.gz', '20200121_matthewgrechsollars_ICL_NIST/20200121_matthewgrechsollars_ICL_NIST_Phase.nii.gz', '20200124_siyuanhu_casewestern_NIST/20200124_siyuanhu_casewestern_NIST.nii.gz', '20200203_iveslevesque_muhc_mgh_NIST/20200203_iveslevesque_muhc_mgh_NIST.nii.gz', '20200204_mrel_usc_NIST/20200204_mrel_usc_GE3T_MR1_NIST.nii.gz', '20200204_mrel_usc_NIST/20200204_mrel_usc_GE3T_MR2_NIST.nii.gz', '20200204_mrel_usc_NIST/20200209_mrel_usc_GE3T_MR1_NIST.nii.gz', '20200204_mrel_usc_NIST/20200209_mrel_usc_GE3T_MR1_NIST_TR10sec.nii.gz', '20200204_mrel_usc_NIST/20200209_mrel_usc_GE3T_MR2_NIST.nii.gz', '20200204_mrel_usc_NIST/20200209_mrel_usc_GE3T_MR2_NIST_TR10sec.nii.gz', '20200210_guillaumegilbert_muhc_NIST/20200210_guillaumegilbert_muhc_NIST_Magnitude.nii.gz', '20200210_guillaumegilbert_muhc_NIST/20200210_guillaumegilbert_muhc_NIST_Real.nii.gz', '20200210_guillaumegilbert_muhc_NIST/20200210_guillaumegilbert_muhc_NIST_Imaginary.nii.gz', '20200225_CStehningPhilipsClinicalScienceGermany_NIST/Aachen_MR1_magnitude.nii.gz', '20200225_CStehningPhilipsClinicalScienceGermany_NIST/Aachen_MR1_real.nii.gz', '20200225_CStehningPhilipsClinicalScienceGermany_NIST/Aachen_MR1_imag.nii.gz', '20200225_CStehningPhilipsClinicalScienceGermany_NIST/Berlin_MR1_magnitude.nii.gz', '20200225_CStehningPhilipsClinicalScienceGermany_NIST/Berlin_MR1_real.nii.gz', '20200225_CStehningPhilipsClinicalScienceGermany_NIST/Berlin_MR1_imag.nii.gz', '20200225_CStehningPhilipsClinicalScienceGermany_NIST/Bonn_MR1_magnitude.nii.gz', '20200225_CStehningPhilipsClinicalScienceGermany_NIST/Cologne_MR1_magnitude.nii.gz', '20200225_CStehningPhilipsClinicalScienceGermany_NIST/Berlin_MR1_real.nii.gz', '20200225_CStehningPhilipsClinicalScienceGermany_NIST/Berlin_MR1_imag.nii.gz']\n"
     ]
    }
   ],
   "source": [
    "print(imagePathList)"
   ]
  },
  {
   "cell_type": "code",
   "execution_count": null,
   "metadata": {
    "kernel": "Python3"
   },
   "outputs": [],
   "source": []
  }
 ],
 "metadata": {
  "kernelspec": {
   "display_name": "SoS",
   "language": "sos",
   "name": "sos"
  },
  "language_info": {
   "codemirror_mode": "sos",
   "file_extension": ".sos",
   "mimetype": "text/x-sos",
   "name": "sos",
   "nbconvert_exporter": "sos_notebook.converter.SoS_Exporter",
   "pygments_lexer": "sos"
  },
  "sos": {
   "kernels": [
    [
     "MATLAB",
     "imatlab",
     "MATLAB",
     "#8ee7f1",
     "octave"
    ],
    [
     "Python3",
     "python3",
     "Python3",
     "#FFD91A",
     {
      "name": "ipython",
      "version": 3
     }
    ]
   ],
   "panel": {
    "displayed": true,
    "height": 0
   },
   "version": "0.21.9"
  }
 },
 "nbformat": 4,
 "nbformat_minor": 4
}
